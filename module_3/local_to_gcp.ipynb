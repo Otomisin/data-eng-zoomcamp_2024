{
 "cells": [
  {
   "cell_type": "code",
   "execution_count": 1,
   "metadata": {},
   "outputs": [],
   "source": [
    "import io\n",
    "import os\n",
    "import requests\n",
    "import pandas as pd\n",
    "from google.cloud import storage\n",
    "\n",
    "# code_kokoro\\terra_form_mystic-shelter-339813-86fc09673374.json"
   ]
  },
  {
   "cell_type": "markdown",
   "metadata": {},
   "source": [
    "## Set up your enviroment credentials"
   ]
  },
  {
   "cell_type": "code",
   "execution_count": 8,
   "metadata": {},
   "outputs": [],
   "source": [
    "os.environ['GOOGLE_APPLICATION_CREDENTIALS'] = r\"C:\\Users\\orena\\OneDrive\\01_ORENAIKE\\02_CAREER_AND_DEVELOPMENTS\\SkillsIT\\Data_Engineering2024\\code_kokoro\\terra_form_mystic-shelter-339813-86fc09673374.json\"\n",
    "\n",
    "storage_client = storage.Client()"
   ]
  },
  {
   "cell_type": "markdown",
   "metadata": {},
   "source": [
    "## create a bucket name"
   ]
  },
  {
   "cell_type": "code",
   "execution_count": 2,
   "metadata": {},
   "outputs": [
    {
     "name": "stdout",
     "output_type": "stream",
     "text": [
      "Bucket nyc-green-taxi-data_v1 successfully created.\n"
     ]
    }
   ],
   "source": [
    "# create a new bucket\n",
    "# import packages\n",
    "from google.cloud import storage\n",
    "import os\n",
    "\n",
    "# set key credentials file path\n",
    "os.environ['GOOGLE_APPLICATION_CREDENTIALS'] = r\"C:\\Users\\orena\\OneDrive\\01_ORENAIKE\\02_CAREER_AND_DEVELOPMENTS\\SkillsIT\\Data_Engineering2024\\code_kokoro\\terra_form_mystic-shelter-339813-86fc09673374.json\"\n",
    "\n",
    "# define function that creates the bucket\n",
    "def create_bucket(bucket_name, storage_class='STANDARD', location='us-central1'): \n",
    "    storage_client = storage.Client()\n",
    "\n",
    "    bucket = storage_client.bucket(bucket_name)\n",
    "    bucket.storage_class = storage_class\n",
    "   \n",
    "    bucket = storage_client.create_bucket(bucket, location=location) \n",
    "    # for dual-location buckets add data_locations=[region_1, region_2]\n",
    "    \n",
    "    return f'Bucket {bucket.name} successfully created.'\n",
    "\n",
    "## Invoke Function\n",
    "print(create_bucket('nyc-green-taxi-data_v1', 'STANDARD', 'us-central1'))"
   ]
  },
  {
   "cell_type": "markdown",
   "metadata": {},
   "source": [
    "## Upload a file"
   ]
  },
  {
   "cell_type": "code",
   "execution_count": null,
   "metadata": {},
   "outputs": [],
   "source": [
    "# import packages\n",
    "from google.cloud import storage\n",
    "import os\n",
    "\n",
    "# # set key credentials file path\n",
    "# os.environ[\"GOOGLE_APPLICATION_CREDENTIALS\"] = 'D:/VSCode/GitRepos/PythonHacks/GCP_Storage_Bucket_Handling_With_Python/cloudquicklabs-93d1e8c6ac6a.json'\n",
    "\n",
    "# define function that uploads a file from the bucket\n",
    "def upload_cs_file(bucket_name, source_file_name, destination_file_name): \n",
    "    storage_client = storage.Client()\n",
    "\n",
    "    bucket = storage_client.bucket(bucket_name)\n",
    "\n",
    "    blob = bucket.blob(destination_file_name)\n",
    "    blob.upload_from_filename(source_file_name)\n",
    "\n",
    "    return True\n",
    "\n",
    "upload_cs_file('test_demo_storage_bucket', 'D:/VSCode/GitRepos/PythonHacks/GCP_Storage_Bucket_Handling_With_Python/cloudquicklabs-93d1e8c6ac6a.json', 'json/test.json')"
   ]
  },
  {
   "cell_type": "markdown",
   "metadata": {},
   "source": [
    "## Upload Parquet Files for green taxi"
   ]
  },
  {
   "cell_type": "code",
   "execution_count": 3,
   "metadata": {},
   "outputs": [
    {
     "name": "stdout",
     "output_type": "stream",
     "text": [
      "Downloaded 2022-01.parquet\n",
      "Uploaded to GCS: green/2022-01.parquet\n",
      "Downloaded 2022-02.parquet\n",
      "Uploaded to GCS: green/2022-02.parquet\n",
      "Downloaded 2022-03.parquet\n",
      "Uploaded to GCS: green/2022-03.parquet\n",
      "Downloaded 2022-04.parquet\n",
      "Uploaded to GCS: green/2022-04.parquet\n",
      "Downloaded 2022-05.parquet\n",
      "Uploaded to GCS: green/2022-05.parquet\n",
      "Downloaded 2022-06.parquet\n",
      "Uploaded to GCS: green/2022-06.parquet\n",
      "Downloaded 2022-07.parquet\n",
      "Uploaded to GCS: green/2022-07.parquet\n",
      "Downloaded 2022-08.parquet\n",
      "Uploaded to GCS: green/2022-08.parquet\n",
      "Downloaded 2022-09.parquet\n",
      "Uploaded to GCS: green/2022-09.parquet\n",
      "Downloaded 2022-10.parquet\n",
      "Uploaded to GCS: green/2022-10.parquet\n",
      "Downloaded 2022-11.parquet\n",
      "Uploaded to GCS: green/2022-11.parquet\n",
      "Downloaded 2022-12.parquet\n",
      "Uploaded to GCS: green/2022-12.parquet\n"
     ]
    }
   ],
   "source": [
    "import os\n",
    "import requests\n",
    "from google.cloud import storage\n",
    "\n",
    "# No need to switch out bucket name, assuming it's already set correctly\n",
    "BUCKET = os.environ.get(\"GCP_GCS_BUCKET\", \"nyc-green-taxi-data_v1\")\n",
    "\n",
    "def upload_to_gcs(bucket, object_name, local_file):\n",
    "    \"\"\"\n",
    "    Uploads a file to Google Cloud Storage.\n",
    "    \"\"\"\n",
    "    client = storage.Client()\n",
    "    bucket = client.bucket(bucket)\n",
    "    blob = bucket.blob(object_name)\n",
    "    blob.upload_from_filename(local_file)\n",
    "\n",
    "def download_file(url, local_file_path):\n",
    "    \"\"\"\n",
    "    Downloads a file from a given URL.\n",
    "    \"\"\"\n",
    "    response = requests.get(url)\n",
    "    with open(local_file_path, 'wb') as file:\n",
    "        file.write(response.content)\n",
    "    print(f\"Downloaded {local_file_path}\")\n",
    "\n",
    "def web_to_gcs(year):\n",
    "    base_url = \"https://d37ci6vzurychx.cloudfront.net/trip-data/green_tripdata_\"\n",
    "    for i in range(1, 13):\n",
    "        month = f\"{i:02d}\"  # Format month as two digits\n",
    "        file_name = f\"{year}-{month}.parquet\"  # File name for the local file\n",
    "        url = f\"{base_url}{file_name}\"  # Construct the URL\n",
    "\n",
    "        # Download the .parquet file directly\n",
    "        download_file(url, file_name)\n",
    "\n",
    "        # Upload it to GCS\n",
    "        upload_to_gcs(BUCKET, f\"green/{file_name}\", file_name)\n",
    "        print(f\"Uploaded to GCS: green/{file_name}\")\n",
    "\n",
    "# Example usage for 2022 data\n",
    "web_to_gcs('2022')\n"
   ]
  },
  {
   "cell_type": "markdown",
   "metadata": {},
   "source": [
    "## SQL for Creating External table in Big Query "
   ]
  },
  {
   "cell_type": "code",
   "execution_count": null,
   "metadata": {
    "vscode": {
     "languageId": "sql"
    }
   },
   "outputs": [],
   "source": [
    "-- Creating external table referring to gcs path\n",
    "CREATE OR REPLACE EXTERNAL TABLE `mystic-shelter-339813.ny_taxi.nyc-green-taxi-data_2022_v1`\n",
    "OPTIONS (\n",
    "  format = 'parquet',\n",
    "  uris = ['gs://nyc-green-taxi-data_v1/green/2022-*.parquet']\n",
    ");\n",
    "\n",
    "\n",
    "SELECT * FROM `mystic-shelter-339813.ny_taxi.nyc-green-taxi-data_2022_v1` LIMIT 10;\n",
    "\n",
    "-- Q1\n",
    "-- Question 1: What is count of records for the 2022 Green Taxi Data?? \n",
    "SELECT COUNT(*) FROM `mystic-shelter-339813.ny_taxi.nyc-green-taxi-data_2022_v1`;\n",
    "-- 840402\n",
    "\n",
    "-- Q2\n",
    "-- Write a query to count the distinct number of PULocationIDs for the entire dataset on both the tables.\n",
    "SELECT COUNT(DISTINCT PULocationID) \n",
    "FROM (\n",
    "  SELECT PULocationID FROM `mystic-shelter-339813.ny_taxi.nyc-green-taxi-data_2022_v1`\n",
    "  UNION ALL\n",
    "  SELECT PULocationID FROM `mystic-shelter-339813.ny_taxi.nyc-green-taxi-data_2022_v1`\n",
    ") AS combined_tables;\n",
    "\n",
    "\n",
    "-- Q3\n",
    "-- How many records have a fare_amount of 0?\n",
    "SELECT COUNT(*) AS zero_fare_records\n",
    "FROM `mystic-shelter-339813.ny_taxi.nyc-green-taxi-data_2022_v1`\n",
    "WHERE fare_amount = 0;\n",
    "-- 1622\n",
    "\n",
    "\n",
    "\n",
    "-- Q4\n",
    "\n",
    "\n",
    "-- Q5\n",
    "-- Write a query to retrieve the distinct PULocationID between lpep_pickup_datetime 06/01/2022 and 06/30/2022 (inclusive)\n",
    "\n",
    "-- Q6\n",
    "-- Where is the data stored in the External Table you created?\n",
    "\n",
    "\n",
    "-- Q7\n",
    "-- It is best practice in Big Query to always cluster your data:\n",
    "-- False\n",
    "\n",
    "\n",
    "-- Write a SELECT count(*) query FROM the materialized table you created. How many bytes does it estimate will be read? Why?\n"
   ]
  }
 ],
 "metadata": {
  "kernelspec": {
   "display_name": "dataeng2024",
   "language": "python",
   "name": "python3"
  },
  "language_info": {
   "codemirror_mode": {
    "name": "ipython",
    "version": 3
   },
   "file_extension": ".py",
   "mimetype": "text/x-python",
   "name": "python",
   "nbconvert_exporter": "python",
   "pygments_lexer": "ipython3",
   "version": "3.12.1"
  }
 },
 "nbformat": 4,
 "nbformat_minor": 2
}
