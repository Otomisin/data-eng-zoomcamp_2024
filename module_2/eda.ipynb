{
 "cells": [
  {
   "cell_type": "code",
   "execution_count": null,
   "metadata": {},
   "outputs": [],
   "source": [
    "import pandas as pd\n",
    "\n",
    "url  = 'url = 'https://github.com/DataTalksClub/nyc-tlc-data/releases/download/green/green_tripdata_2020-10.csv.gz''\n",
    "\n",
    "df = pd.read_csv(url)\n",
    "\n",
    "df. columns"
   ]
  },
  {
   "cell_type": "code",
   "execution_count": 4,
   "metadata": {},
   "outputs": [
    {
     "name": "stdout",
     "output_type": "stream",
     "text": [
      "Index(['VendorID', 'lpep_pickup_datetime', 'lpep_dropoff_datetime',\n",
      "       'store_and_fwd_flag', 'RatecodeID', 'PULocationID', 'DOLocationID',\n",
      "       'passenger_count', 'trip_distance', 'fare_amount', 'extra', 'mta_tax',\n",
      "       'tip_amount', 'tolls_amount', 'ehail_fee', 'improvement_surcharge',\n",
      "       'total_amount', 'payment_type', 'trip_type', 'congestion_surcharge'],\n",
      "      dtype='object')\n"
     ]
    },
    {
     "name": "stderr",
     "output_type": "stream",
     "text": [
      "C:\\Users\\orena\\AppData\\Local\\Temp\\ipykernel_47008\\1280134903.py:7: DtypeWarning: Columns (3) have mixed types. Specify dtype option on import or set low_memory=False.\n",
      "  df = pd.read_csv(url)\n"
     ]
    },
    {
     "data": {
      "text/plain": [
       "(95120, 20)"
      ]
     },
     "execution_count": 4,
     "metadata": {},
     "output_type": "execute_result"
    }
   ],
   "source": [
    "import pandas as pd\n",
    "\n",
    "# Corrected URL assignment\n",
    "url = 'https://github.com/DataTalksClub/nyc-tlc-data/releases/download/green/green_tripdata_2020-10.csv.gz'\n",
    "\n",
    "# Reading the CSV file from the URL\n",
    "df = pd.read_csv(url)\n",
    "\n",
    "# Printing the columns of the DataFrame\n",
    "print(df.columns)\n",
    "\n",
    "df.shape\n"
   ]
  },
  {
   "cell_type": "code",
   "execution_count": 5,
   "metadata": {},
   "outputs": [
    {
     "name": "stderr",
     "output_type": "stream",
     "text": [
      "C:\\Users\\orena\\AppData\\Local\\Temp\\ipykernel_47008\\1319079250.py:15: DtypeWarning: Columns (3) have mixed types. Specify dtype option on import or set low_memory=False.\n",
      "  df = pd.read_csv(url)\n",
      "C:\\Users\\orena\\AppData\\Local\\Temp\\ipykernel_47008\\1319079250.py:15: DtypeWarning: Columns (3) have mixed types. Specify dtype option on import or set low_memory=False.\n",
      "  df = pd.read_csv(url)\n",
      "C:\\Users\\orena\\AppData\\Local\\Temp\\ipykernel_47008\\1319079250.py:15: DtypeWarning: Columns (3) have mixed types. Specify dtype option on import or set low_memory=False.\n",
      "  df = pd.read_csv(url)\n"
     ]
    },
    {
     "data": {
      "text/plain": [
       "(266855, 20)"
      ]
     },
     "execution_count": 5,
     "metadata": {},
     "output_type": "execute_result"
    }
   ],
   "source": [
    "import pandas as pd\n",
    "\n",
    "# Define the URLs in a list\n",
    "urls = [\n",
    "        'https://github.com/DataTalksClub/nyc-tlc-data/releases/download/green/green_tripdata_2020-10.csv.gz',\n",
    "        'https://github.com/DataTalksClub/nyc-tlc-data/releases/download/green/green_tripdata_2020-11.csv.gz',\n",
    "        'https://github.com/DataTalksClub/nyc-tlc-data/releases/download/green/green_tripdata_2020-12.csv.gz'\n",
    "]\n",
    "\n",
    "# Initialize an empty list to store dataframes\n",
    "dfs = []\n",
    "\n",
    "# Loop through the URLs, read the CSV files, and append to the list\n",
    "for url in urls:\n",
    "    df = pd.read_csv(url)\n",
    "    dfs.append(df)\n",
    "\n",
    "# Concatenate all dataframes in the list\n",
    "final_df = pd.concat(dfs, ignore_index=True)\n",
    "\n",
    "# Display the columns of the concatenated dataframe\n",
    "final_df.shape\n"
   ]
  },
  {
   "cell_type": "code",
   "execution_count": 7,
   "metadata": {},
   "outputs": [],
   "source": [
    "import pandas as pd\n",
    "data = final_df\n",
    "\n",
    "def transform(data):\n",
    "    \"\"\"\n",
    "    Transform the input data frame by removing rows with zero passengers or trip distance,\n",
    "    converting datetime to date, renaming columns, and adding assertions.\n",
    "\n",
    "    Args:\n",
    "        data: The input data frame with taxi trip records.\n",
    "\n",
    "    Returns:\n",
    "        A transformed data frame.\n",
    "    \"\"\"\n",
    "    # Remove rows where passenger count or trip distance is 0\n",
    "    data = data[(data['passenger_count'] > 0) & (data['trip_distance'] > 0)]\n",
    "    \n",
    "    # Create a new column 'lpep_pickup_date' by converting 'lpep_pickup_datetime' to date\n",
    "    data['lpep_pickup_date'] = pd.to_datetime(data['lpep_pickup_datetime']).dt.date\n",
    "    \n",
    "    # Rename columns from Camel Case to Snake Case\n",
    "    data.columns = [col.lower().replace('id', '_id') for col in data.columns]\n",
    "    \n",
    "    # Assertions\n",
    "    assert data['vendor_id'].isin([1, 2]).all(), \"Vendor ID is not one of the existing values.\"\n",
    "    assert (data['passenger_count'] > 0).all(), \"There are rows with passenger count <= 0.\"\n",
    "    assert (data['trip_distance'] > 0).all(), \"There are rows with trip distance <= 0.\"\n",
    "\n",
    "    return data\n",
    "\n",
    "# Note: This function assumes 'data' is a pandas DataFrame with columns as specified in your input.\n",
    "# You will need to adjust the assertions if the existing values for 'vendor_id' differ from [1, 2].\n"
   ]
  }
 ],
 "metadata": {
  "kernelspec": {
   "display_name": "dataenv",
   "language": "python",
   "name": "python3"
  },
  "language_info": {
   "codemirror_mode": {
    "name": "ipython",
    "version": 3
   },
   "file_extension": ".py",
   "mimetype": "text/x-python",
   "name": "python",
   "nbconvert_exporter": "python",
   "pygments_lexer": "ipython3",
   "version": "3.12.0"
  }
 },
 "nbformat": 4,
 "nbformat_minor": 2
}
