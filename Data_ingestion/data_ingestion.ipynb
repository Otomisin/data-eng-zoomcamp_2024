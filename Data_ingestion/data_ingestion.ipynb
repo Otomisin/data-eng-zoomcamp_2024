{
 "cells": [
  {
   "cell_type": "code",
   "execution_count": 16,
   "metadata": {},
   "outputs": [],
   "source": [
    "def square_root_generator(limit): \n",
    "  n = 1 \n",
    "  while n <= limit: \n",
    "    yield n ** 0.5 \n",
    "    n += 1 # Example usage: limit = 5 generator = square_root_generator(limit) for sqrt_value in generator: print(sqrt_value)"
   ]
  },
  {
   "cell_type": "code",
   "execution_count": 19,
   "metadata": {},
   "outputs": [
    {
     "name": "stdout",
     "output_type": "stream",
     "text": [
      "1.0\n",
      "1.4142135623730951\n",
      "1.7320508075688772\n",
      "2.0\n",
      "2.23606797749979\n"
     ]
    }
   ],
   "source": [
    "limit = 5\n",
    "generator = square_root_generator(5)\n",
    "for sqrt_value in generator:\n",
    "  print(sqrt_value)"
   ]
  },
  {
   "cell_type": "markdown",
   "metadata": {},
   "source": [
    "13th number"
   ]
  },
  {
   "cell_type": "code",
   "execution_count": 27,
   "metadata": {},
   "outputs": [
    {
     "name": "stdout",
     "output_type": "stream",
     "text": [
      "1.0\n",
      "1.4142135623730951\n",
      "1.7320508075688772\n",
      "2.0\n",
      "2.23606797749979\n",
      "2.449489742783178\n",
      "2.6457513110645907\n",
      "2.8284271247461903\n",
      "3.0\n",
      "3.1622776601683795\n",
      "3.3166247903554\n",
      "3.4641016151377544\n",
      "3.605551275463989\n"
     ]
    }
   ],
   "source": [
    "limit = 13\n",
    "generator = square_root_generator(limit)\n",
    "for sqrt_value in generator:\n",
    "  print(sqrt_value)"
   ]
  },
  {
   "cell_type": "markdown",
   "metadata": {},
   "source": [
    "Sum up the vlaues of the generator"
   ]
  },
  {
   "cell_type": "code",
   "execution_count": 24,
   "metadata": {},
   "outputs": [
    {
     "name": "stdout",
     "output_type": "stream",
     "text": [
      "8.382332347441762\n"
     ]
    }
   ],
   "source": [
    "limit = 5\n",
    "generator = square_root_generator(5)\n",
    "sqrt_values = list(generator)\n",
    "sum_values = sum(sqrt_values)\n",
    "print (sum_values)"
   ]
  },
  {
   "cell_type": "markdown",
   "metadata": {},
   "source": [
    "## Asignement two"
   ]
  },
  {
   "cell_type": "code",
   "execution_count": 25,
   "metadata": {},
   "outputs": [
    {
     "ename": "SyntaxError",
     "evalue": "invalid syntax (2981695205.py, line 3)",
     "output_type": "error",
     "traceback": [
      "\u001b[1;36m  Cell \u001b[1;32mIn[25], line 3\u001b[1;36m\u001b[0m\n\u001b[1;33m    yield {\"ID\": i, \"Name\": f\"Person_{i}\", \"Age\": 25 + i, \"City\": \"City_A\"} for person in people_1():\u001b[0m\n\u001b[1;37m                                                                            ^\u001b[0m\n\u001b[1;31mSyntaxError\u001b[0m\u001b[1;31m:\u001b[0m invalid syntax\n"
     ]
    }
   ],
   "source": [
    "def people_1(): \n",
    "  for i in range(1, 6): \n",
    "    yield {\"ID\": i, \"Name\": f\"Person_{i}\", \"Age\": 25 + i, \"City\": \"City_A\"} for person in people_1(): \n",
    "      print(person) def people_2(): \n",
    "        for i in range(3, 9): \n",
    "          yield {\"ID\": i, \"Name\": f\"Person_{i}\", \"Age\": 30 + i, \"City\": \"City_B\", \"Occupation\": f\"Job_{i}\"} for person in people_2(): \n",
    "            print(person)"
   ]
  },
  {
   "cell_type": "code",
   "execution_count": 28,
   "metadata": {},
   "outputs": [
    {
     "name": "stdout",
     "output_type": "stream",
     "text": [
      "Sum of ages from the first generator: 140\n",
      "Sum of ages after appending the second generator: 353\n"
     ]
    }
   ],
   "source": [
    "# Define the generators for people's data\n",
    "def people_1(): \n",
    "    for i in range(1, 6): \n",
    "        yield {\"ID\": i, \"Name\": f\"Person_{i}\", \"Age\": 25 + i, \"City\": \"City_A\"}\n",
    "\n",
    "def people_2(): \n",
    "    for i in range(3, 9): \n",
    "        yield {\"ID\": i, \"Name\": f\"Person_{i}\", \"Age\": 30 + i, \"City\": \"City_B\", \"Occupation\": f\"Job_{i}\"}\n",
    "\n",
    "# Function to calculate the sum of ages before and after appending data from the second generator\n",
    "def calculate_ages_sum():\n",
    "    # Calculate the sum of ages from the first generator\n",
    "    sum_ages_first_generator = sum(person[\"Age\"] for person in people_1())\n",
    "    \n",
    "    # To simulate appending the second generator to the first, we combine them into a list\n",
    "    # Note: In practice, there would be a need to consier memory usage for large datasets.\n",
    "    people_combined = list(people_1()) + list(people_2())\n",
    "    \n",
    "    # Calculate the sum of ages after combining data from both generators\n",
    "    sum_ages_combined = sum(person[\"Age\"] for person in people_combined)\n",
    "    \n",
    "    return sum_ages_first_generator, sum_ages_combined\n",
    "\n",
    "# Execute the function and print the results\n",
    "sum_ages_first, sum_ages_after_appending = calculate_ages_sum()\n",
    "print(f\"Sum of ages from the first generator: {sum_ages_first}\")\n",
    "print(f\"Sum of ages after appending the second generator: {sum_ages_after_appending}\")\n",
    "\n"
   ]
  },
  {
   "cell_type": "markdown",
   "metadata": {},
   "source": [
    "**Question 4**. Merge the 2 generators using the ID column. Calculate the sum of ages of all the people loaded as described above."
   ]
  },
  {
   "cell_type": "code",
   "execution_count": 29,
   "metadata": {},
   "outputs": [
    {
     "name": "stdout",
     "output_type": "stream",
     "text": [
      "Record with ID 3 has age 33 as expected.\n",
      "Sum of ages of all people: 266\n"
     ]
    }
   ],
   "source": [
    "# Re-define the generators\n",
    "def people_1(): \n",
    "    for i in range(1, 6): \n",
    "        yield {\"ID\": i, \"Name\": f\"Person_{i}\", \"Age\": 25 + i, \"City\": \"City_A\"}\n",
    "\n",
    "def people_2(): \n",
    "    for i in range(3, 9): \n",
    "        yield {\"ID\": i, \"Name\": f\"Person_{i}\", \"Age\": 30 + i, \"City\": \"City_B\", \"Occupation\": f\"Job_{i}\"}\n",
    "\n",
    "# Emulate loading and merging data with primary key constraint\n",
    "def load_and_merge_data():\n",
    "    # Load data from the first generator\n",
    "    data_table = {person[\"ID\"]: person for person in people_1()}\n",
    "    \n",
    "    # Merge data from the second generator, replacing where IDs overlap\n",
    "    for person in people_2():\n",
    "        data_table[person[\"ID\"]] = person  # This replaces or adds new records based on the ID\n",
    "    \n",
    "    # Verify the record with ID 3 to ensure it has age 33 (for validation)\n",
    "    if data_table[3][\"Age\"] == 33:\n",
    "        print(\"Record with ID 3 has age 33 as expected.\")\n",
    "    else:\n",
    "        print(\"There's an error with the record ID 3.\")\n",
    "    \n",
    "    # Calculate the sum of ages\n",
    "    sum_of_ages = sum(person[\"Age\"] for person in data_table.values())\n",
    "    \n",
    "    return sum_of_ages\n",
    "\n",
    "# Execute the function and print the sum of ages\n",
    "sum_of_ages = load_and_merge_data()\n",
    "print(f\"Sum of ages of all people: {sum_of_ages}\")\n"
   ]
  }
 ],
 "metadata": {
  "kernelspec": {
   "display_name": "dataenv",
   "language": "python",
   "name": "python3"
  },
  "language_info": {
   "codemirror_mode": {
    "name": "ipython",
    "version": 3
   },
   "file_extension": ".py",
   "mimetype": "text/x-python",
   "name": "python",
   "nbconvert_exporter": "python",
   "pygments_lexer": "ipython3",
   "version": "3.12.0"
  }
 },
 "nbformat": 4,
 "nbformat_minor": 2
}
